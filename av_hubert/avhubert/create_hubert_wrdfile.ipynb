{
 "cells": [
  {
   "cell_type": "code",
   "execution_count": 10,
   "id": "6c7da54d-397c-4cf6-9ea9-89e3ffaca965",
   "metadata": {
    "tags": []
   },
   "outputs": [],
   "source": [
    "import tqdm"
   ]
  },
  {
   "cell_type": "code",
   "execution_count": 2,
   "id": "edba112d-b352-4ac9-a775-b9c17b4d4d25",
   "metadata": {
    "tags": []
   },
   "outputs": [
    {
     "data": {
      "text/plain": [
       "(48166,\n",
       " '/\\n',\n",
       " 'trainval/6364025700623369025/00016\\t/ssd_scratch/cvit/neha/lrs2/video/trainval/6364025700623369025/00016.mp4\\t/ssd_scratch/cvit/neha/lrs2/audio/trainval/6364025700623369025/00016.wav\\t33\\t21504\\n')"
      ]
     },
     "execution_count": 2,
     "metadata": {},
     "output_type": "execute_result"
    }
   ],
   "source": [
    "with open('/ssd_scratch/cvit/neha/lrs2/30h_data/train.tsv','r') as f:\n",
    "    list_ = f.readlines()\n",
    "len(list_), list_[0], list_[1]"
   ]
  },
  {
   "cell_type": "code",
   "execution_count": 19,
   "id": "5c72638e-7040-478a-bcd7-ead477972433",
   "metadata": {
    "tags": []
   },
   "outputs": [
    {
     "data": {
      "text/plain": [
       "(48756,\n",
       " {'audio': '/ssd_scratch/cvit/neha/lrs2/audio/trainval/5556181006951512202/00004.wav',\n",
       "  'hubert': '64 64 74 27 27 31 59 59 69 69 69 69 16 50 77 76 53 44 80 85 85 53 53 62 29 6 6 15 49 49 49 49 49 49 49 49 49 49 41 10 37 37 73 73 73 16 74 2 27 57 78 78 14 76 76 9 43 43 6 95 92 21 85 23 23 44 80 18 29 29 28 28 24 24 51 68 16 80 80 82 82 42 42 42 9 62 6 6 36 49 92 92 47 87 87 9 9 65 6 95 95 92 23 90 35 62 62 62 6 36 49 49 7 7 87 68 68 16 16 66 66 77 87 87 87 9 9 43 74 74 2 2 2 84 84 96 55 55 39 39 39 39 39 39 67 67 67 54 54 57 57 31 31 59 23 69 69 69 16 50 50 77 76 53 44 80 85 53 53 53 62 6 6 15 49 49 49 49 41 37 37 84 57 86 24 51 51 51 51 68 80 80 85 37 37 2 2 2 40 40 57 93 66 66 66 21 21 59 87 87 87 9 44 80 80 52 52 19 19 19 19 80 80 26 26 24 24 61 61 90 35 35 53 11 11 64 1 1 21 21 95 95 41 83 84 84 84 71 20',\n",
       "  'duration': 4.992})"
      ]
     },
     "execution_count": 19,
     "metadata": {},
     "output_type": "execute_result"
    }
   ],
   "source": [
    "with open('/ssd_scratch/cvit/neha/lrsaudio_huberts/parsed_hubert/train.txt','r') as f2:\n",
    "    hublines = f2.readlines()\n",
    "    \n",
    "with open('/ssd_scratch/cvit/neha/lrsaudio_huberts/parsed_hubert/val.txt','r') as f2:\n",
    "    hublines.extend(f2.readlines())\n",
    "    \n",
    "with open('/ssd_scratch/cvit/neha/lrsaudio_huberts/parsed_hubert/test.txt','r') as f2:\n",
    "    hublines.extend(f2.readlines())\n",
    "    \n",
    "\n",
    "len(hublines)  , eval(hublines[-1])"
   ]
  },
  {
   "cell_type": "code",
   "execution_count": 12,
   "id": "6bb70a5d-6f8b-4487-9e9b-47eccd59b48d",
   "metadata": {
    "tags": []
   },
   "outputs": [
    {
     "name": "stderr",
     "output_type": "stream",
     "text": [
      "  0%|▏                                                                          | 108/48165 [00:33<4:11:28,  3.18it/s]\n"
     ]
    },
    {
     "ename": "KeyboardInterrupt",
     "evalue": "",
     "output_type": "error",
     "traceback": [
      "\u001b[0;31m---------------------------------------------------------------------------\u001b[0m",
      "\u001b[0;31mKeyboardInterrupt\u001b[0m                         Traceback (most recent call last)",
      "Cell \u001b[0;32mIn[12], line 6\u001b[0m\n\u001b[1;32m      4\u001b[0m \u001b[38;5;66;03m# print(audiopath)\u001b[39;00m\n\u001b[1;32m      5\u001b[0m \u001b[38;5;28;01mfor\u001b[39;00m hubsinfo \u001b[38;5;129;01min\u001b[39;00m hublines:\n\u001b[0;32m----> 6\u001b[0m     hubline \u001b[38;5;241m=\u001b[39m \u001b[38;5;28;43meval\u001b[39;49m\u001b[43m(\u001b[49m\u001b[43mhubsinfo\u001b[49m\u001b[43m)\u001b[49m\n\u001b[1;32m      7\u001b[0m     \u001b[38;5;28;01mif\u001b[39;00m hubline[\u001b[38;5;124m'\u001b[39m\u001b[38;5;124maudio\u001b[39m\u001b[38;5;124m'\u001b[39m]\u001b[38;5;241m==\u001b[39maudiopath:\n\u001b[1;32m      8\u001b[0m         trainwrd\u001b[38;5;241m.\u001b[39mwrite(hubline[\u001b[38;5;124m'\u001b[39m\u001b[38;5;124mhubert\u001b[39m\u001b[38;5;124m'\u001b[39m]\u001b[38;5;241m+\u001b[39m\u001b[38;5;124m'\u001b[39m\u001b[38;5;130;01m\\n\u001b[39;00m\u001b[38;5;124m'\u001b[39m)\n",
      "File \u001b[0;32m<string>:1\u001b[0m\n",
      "\u001b[0;31mKeyboardInterrupt\u001b[0m: "
     ]
    }
   ],
   "source": [
    "with open('/ssd_scratch/cvit/neha/train_hubert.wrd','w') as trainwrd:\n",
    "    for lines in tqdm.tqdm(list_[1:]):\n",
    "        audiopath = lines.split('\\t')[2]\n",
    "        # print(audiopath)\n",
    "        for hubsinfo in hublines:\n",
    "            hubline = eval(hubsinfo)\n",
    "            if hubline['audio']==audiopath:\n",
    "                trainwrd.write(hubline['hubert']+'\\n')\n",
    "                break"
   ]
  },
  {
   "cell_type": "code",
   "execution_count": null,
   "id": "fad96663-3e31-44ed-af61-ed0288a02be8",
   "metadata": {},
   "outputs": [],
   "source": []
  }
 ],
 "metadata": {
  "kernelspec": {
   "display_name": "Python 3 (ipykernel)",
   "language": "python",
   "name": "python3"
  },
  "language_info": {
   "codemirror_mode": {
    "name": "ipython",
    "version": 3
   },
   "file_extension": ".py",
   "mimetype": "text/x-python",
   "name": "python",
   "nbconvert_exporter": "python",
   "pygments_lexer": "ipython3",
   "version": "3.8.16"
  }
 },
 "nbformat": 4,
 "nbformat_minor": 5
}
